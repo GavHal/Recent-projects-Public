{
 "cells": [
  {
   "cell_type": "code",
   "execution_count": 1,
   "id": "0ba2a34f-a435-47a6-b4e4-4ad8fad66590",
   "metadata": {},
   "outputs": [],
   "source": [
    "import ipywidgets as widgets\n",
    "#hide_output\n",
    "btn_upload = widgets.FileUpload()"
   ]
  },
  {
   "cell_type": "code",
   "execution_count": 2,
   "id": "d910e18a-1c5c-4672-a285-c40f38ac49e5",
   "metadata": {},
   "outputs": [],
   "source": [
    "import os\n",
    "\n",
    "# Set the working directory\n",
    "os.chdir(r'C:\\Users\\gavha\\Downloads')"
   ]
  },
  {
   "cell_type": "code",
   "execution_count": 3,
   "id": "46d92a33-549c-4098-96e0-baa08defdb9d",
   "metadata": {},
   "outputs": [],
   "source": [
    "import pathlib\n",
    "from fastai.learner import load_learner\n",
    "temp = pathlib.PosixPath\n",
    "pathlib.PosixPath = pathlib.WindowsPath\n",
    "# Load the learner from the saved file\n",
    "learn = load_learner('export.pkl')\n",
    "pathlib.PosixPath = temp"
   ]
  },
  {
   "cell_type": "code",
   "execution_count": 4,
   "id": "42553e3e-a352-460e-9f37-3b6f47e36550",
   "metadata": {},
   "outputs": [],
   "source": [
    "#hide_output\n",
    "btn_run = widgets.Button(description='Classify')\n",
    "output = widgets.Output()"
   ]
  },
  {
   "cell_type": "code",
   "execution_count": 5,
   "id": "153a246f-2dee-4009-a3af-851907433bc2",
   "metadata": {},
   "outputs": [],
   "source": [
    "from PIL import Image\n",
    "from io import BytesIO\n",
    "def on_click_classify(change):\n",
    "    with output:\n",
    "        img = Image.open(BytesIO(btn_upload.value[-1].content))\n",
    "        out_pl = widgets.Output()\n",
    "        out_pl.clear_output()\n",
    "        img.thumbnail((128, 128))\n",
    "        with out_pl:\n",
    "            display(img)\n",
    "        display(out_pl)\n",
    "        pred,pred_idx,probs = learn.predict(img)\n",
    "        lbl_pred = widgets.Label()\n",
    "        lbl_pred.value = f'Prediction: {pred}; Probability: {probs[pred_idx]:.04f}'\n",
    "        print(learn.predict(img))\n",
    "        print(learn.dls.vocab)\n",
    "        print(lbl_pred)\n",
    "btn_run.on_click(on_click_classify)"
   ]
  },
  {
   "cell_type": "code",
   "execution_count": 6,
   "id": "fe7e8825-b395-4e98-8ccb-cd3343b22f8e",
   "metadata": {},
   "outputs": [],
   "source": [
    "#hide\n",
    "#Putting back btn_upload to a widget for next cell\n",
    "btn_upload = widgets.FileUpload()"
   ]
  },
  {
   "cell_type": "code",
   "execution_count": 7,
   "id": "90d36b8d-711d-4ce3-96ee-6d5954931040",
   "metadata": {},
   "outputs": [
    {
     "data": {
      "application/vnd.jupyter.widget-view+json": {
       "model_id": "9fd038d7ea2e4d058d3721eb1bf334a8",
       "version_major": 2,
       "version_minor": 0
      },
      "text/plain": [
       "VBox(children=(Label(value='Select a building!'), FileUpload(value=(), description='Upload'), Button(descripti…"
      ]
     },
     "metadata": {},
     "output_type": "display_data"
    }
   ],
   "source": [
    "from IPython.display import display\n",
    "# Define the output area and label widgets\n",
    "out_pl = widgets.Output()\n",
    "lbl_pred = widgets.Label()\n",
    "#hide_output\n",
    "# Create layout\n",
    "ui = widgets.VBox([widgets.Label('Select a building!'), \n",
    "                   btn_upload, btn_run, output, out_pl, lbl_pred])\n",
    "display(ui)"
   ]
  }
 ],
 "metadata": {
  "kernelspec": {
   "display_name": "Python (base)",
   "language": "python",
   "name": "base"
  },
  "language_info": {
   "codemirror_mode": {
    "name": "ipython",
    "version": 3
   },
   "file_extension": ".py",
   "mimetype": "text/x-python",
   "name": "python",
   "nbconvert_exporter": "python",
   "pygments_lexer": "ipython3",
   "version": "3.12.4"
  }
 },
 "nbformat": 4,
 "nbformat_minor": 5
}
